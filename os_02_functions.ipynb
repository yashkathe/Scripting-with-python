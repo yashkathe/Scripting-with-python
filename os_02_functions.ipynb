{
 "cells": [
  {
   "cell_type": "markdown",
   "metadata": {},
   "source": [
    "# Commonly Used Functions"
   ]
  },
  {
   "cell_type": "code",
   "execution_count": 19,
   "metadata": {},
   "outputs": [],
   "source": [
    "import os\n",
    "import pprint"
   ]
  },
  {
   "cell_type": "markdown",
   "metadata": {},
   "source": [
    "### os.name\n",
    "\n",
    "Provides the name of the operating system dependent module imported"
   ]
  },
  {
   "cell_type": "code",
   "execution_count": 20,
   "metadata": {},
   "outputs": [
    {
     "name": "stdout",
     "output_type": "stream",
     "text": [
      "posix\n"
     ]
    }
   ],
   "source": [
    "print(os.name)"
   ]
  },
  {
   "cell_type": "markdown",
   "metadata": {},
   "source": [
    "### os.error\n",
    "IOError"
   ]
  },
  {
   "cell_type": "code",
   "execution_count": 21,
   "metadata": {},
   "outputs": [
    {
     "name": "stdout",
     "output_type": "stream",
     "text": [
      "Problem reading: GFG.txt\n"
     ]
    }
   ],
   "source": [
    "try:\n",
    "    filename = 'GFG.txt'\n",
    "    f = open(filename, 'r')\n",
    "    text = f.read()\n",
    "    f.close()\n",
    " \n",
    "except IOError:\n",
    " \n",
    "    print('Problem reading: ' + filename)"
   ]
  },
  {
   "cell_type": "markdown",
   "metadata": {},
   "source": [
    "### os.path.exists()"
   ]
  },
  {
   "cell_type": "code",
   "execution_count": 22,
   "metadata": {},
   "outputs": [
    {
     "name": "stdout",
     "output_type": "stream",
     "text": [
      "True\n",
      "False\n"
     ]
    }
   ],
   "source": [
    "print(os.path.exists(\"./README.md\"))\n",
    "print(os.path.exists(\"./LICENSE.md\"))"
   ]
  },
  {
   "cell_type": "markdown",
   "metadata": {},
   "source": [
    "### os.path.getsize()"
   ]
  },
  {
   "cell_type": "code",
   "execution_count": 23,
   "metadata": {},
   "outputs": [
    {
     "name": "stdout",
     "output_type": "stream",
     "text": [
      "Size of the file is 4999  bytes.\n"
     ]
    }
   ],
   "source": [
    "size = os.path.getsize(\"./os_01_module.ipynb\")\n",
    " \n",
    "print(\"Size of the file is\", size,\" bytes.\")"
   ]
  },
  {
   "cell_type": "markdown",
   "metadata": {},
   "source": [
    "### os.ctermid()  \n",
    "\n",
    "get the filename corresponding to the controlling terminal of the process"
   ]
  },
  {
   "cell_type": "code",
   "execution_count": 24,
   "metadata": {},
   "outputs": [
    {
     "name": "stdout",
     "output_type": "stream",
     "text": [
      "/dev/tty\n"
     ]
    }
   ],
   "source": [
    "print(os.ctermid())"
   ]
  },
  {
   "cell_type": "markdown",
   "metadata": {},
   "source": [
    "### os.environ\n",
    "\n",
    "os.environ in Python is a mapping object that represents the user’s OS environmental variables. It returns a dictionary having the user’s environmental variable as key and their values as value\n",
    "\n",
    "Behaves like a Python dictionary, so all the common dictionary operations like get and set can be performed. We can also modify os.environ but any changes will be effective only for the current process where it was assigned and it will not change the value permanently."
   ]
  },
  {
   "cell_type": "code",
   "execution_count": 25,
   "metadata": {},
   "outputs": [
    {
     "name": "stdout",
     "output_type": "stream",
     "text": [
      "User's Environment variable:\n",
      "{'CHROME_DESKTOP': 'code-url-handler.desktop',\n",
      " 'CLICOLOR': '1',\n",
      " 'CLICOLOR_FORCE': '1',\n",
      " 'DBUS_SESSION_BUS_ADDRESS': 'unix:path=/run/user/1000/bus',\n",
      " 'DEBUG': 'WARN',\n",
      " 'DEFAULTS_PATH': '/usr/share/gconf/pop.default.path',\n",
      " 'DESKTOP_SESSION': 'pop',\n",
      " 'DISPLAY': ':1',\n",
      " 'ELECTRON_RUN_AS_NODE': '1',\n",
      " 'FORCE_COLOR': '1',\n",
      " 'GDK_BACKEND': 'x11',\n",
      " 'GDMSESSION': 'pop',\n",
      " 'GIO_LAUNCHED_DESKTOP_FILE': '/usr/share/applications/code.desktop',\n",
      " 'GIO_LAUNCHED_DESKTOP_FILE_PID': '40048',\n",
      " 'GIT_PAGER': 'cat',\n",
      " 'GJS_DEBUG_OUTPUT': 'stderr',\n",
      " 'GJS_DEBUG_TOPICS': 'JS '\n",
      "                     'ERROR;JS '\n",
      "                     'LOG',\n",
      " 'GNOME_DESKTOP_SESSION_ID': 'this-is-deprecated',\n",
      " 'GNOME_SHELL_SESSION_MODE': 'pop',\n",
      " 'GPG_AGENT_INFO': '/run/user/1000/gnupg/S.gpg-agent:0:1',\n",
      " 'GTK_IM_MODULE': 'ibus',\n",
      " 'GTK_MODULES': 'gail:atk-bridge',\n",
      " 'HOME': '/home/yashkathe',\n",
      " 'INVOCATION_ID': '199c1d93375445049d7ed1f8ef00ebac',\n",
      " 'JAVA_HOME': '/home/yashkathe/.cache/coursier/arc/https/github.com/adoptium/temurin11-binaries/releases/download/jdk-11.0.21%252B9/OpenJDK11U-jdk_x64_linux_hotspot_11.0.21_9.tar.gz/jdk-11.0.21+9',\n",
      " 'JOURNAL_STREAM': '8:26107',\n",
      " 'LANG': 'en_US.UTF-8',\n",
      " 'LESSCLOSE': '/usr/bin/lesspipe '\n",
      "              '%s '\n",
      "              '%s',\n",
      " 'LESSOPEN': '| '\n",
      "             '/usr/bin/lesspipe '\n",
      "             '%s',\n",
      " 'LIBVIRT_DEFAULT_URI': 'qemu:///system',\n",
      " 'LOGNAME': 'yashkathe',\n",
      " 'MANAGERPID': '2808',\n",
      " 'MANDATORY_PATH': '/usr/share/gconf/pop.mandatory.path',\n",
      " 'MPLBACKEND': 'module://matplotlib_inline.backend_inline',\n",
      " 'NVM_BIN': '/home/yashkathe/.nvm/versions/node/v20.9.0/bin',\n",
      " 'NVM_DIR': '/home/yashkathe/.nvm',\n",
      " 'NVM_INC': '/home/yashkathe/.nvm/versions/node/v20.9.0/include/node',\n",
      " 'ORIGINAL_XDG_CURRENT_DESKTOP': 'pop:GNOME',\n",
      " 'PAGER': 'cat',\n",
      " 'PATH': '/bin:/home/yashkathe/.local/bin:/home/yashkathe/.nvm/versions/node/v20.9.0/bin:/home/yashkathe/.local/bin:/usr/local/sbin:/usr/local/bin:/usr/sbin:/usr/bin:/sbin:/bin:/usr/games:/usr/local/games:/snap/bin:/snap/bin:/home/yashkathe/.cache/coursier/arc/https/github.com/adoptium/temurin11-binaries/releases/download/jdk-11.0.21%252B9/OpenJDK11U-jdk_x64_linux_hotspot_11.0.21_9.tar.gz/jdk-11.0.21+9/bin:/home/yashkathe/.local/share/coursier/bin:/home/yashkathe/.cache/coursier/arc/https/github.com/adoptium/temurin11-binaries/releases/download/jdk-11.0.21%252B9/OpenJDK11U-jdk_x64_linux_hotspot_11.0.21_9.tar.gz/jdk-11.0.21+9/bin:/home/yashkathe/.local/share/coursier/bin:/home/yashkathe/.local/bin:/home/yashkathe/.nvm/versions/node/v20.9.0/bin:/home/yashkathe/.local/bin:/usr/local/sbin:/usr/local/bin:/usr/sbin:/usr/bin:/sbin:/bin:/usr/games:/usr/local/games:/snap/bin:/snap/bin:/home/yashkathe/.cache/coursier/arc/https/github.com/adoptium/temurin11-binaries/releases/download/jdk-11.0.21%252B9/OpenJDK11U-jdk_x64_linux_hotspot_11.0.21_9.tar.gz/jdk-11.0.21+9/bin:/home/yashkathe/.local/share/coursier/bin:/home/yashkathe/.cache/coursier/arc/https/github.com/adoptium/temurin11-binaries/releases/download/jdk-11.0.21%252B9/OpenJDK11U-jdk_x64_linux_hotspot_11.0.21_9.tar.gz/jdk-11.0.21+9/bin:/home/yashkathe/.local/share/coursier/bin',\n",
      " 'PWD': '/home/yashkathe',\n",
      " 'PYDEVD_IPYTHON_COMPATIBLE_DEBUGGING': '1',\n",
      " 'PYDEVD_USE_FRAME_EVAL': 'NO',\n",
      " 'PYTHONIOENCODING': 'utf-8',\n",
      " 'PYTHONUNBUFFERED': '1',\n",
      " 'QT_ACCESSIBILITY': '1',\n",
      " 'QT_IM_MODULE': 'ibus',\n",
      " 'SESSION_MANAGER': 'local/pop-os:@/tmp/.ICE-unix/3038,unix/pop-os:/tmp/.ICE-unix/3038',\n",
      " 'SHELL': '/bin/bash',\n",
      " 'SHLVL': '0',\n",
      " 'SSH_AGENT_LAUNCHER': 'gnome-keyring',\n",
      " 'SSH_AUTH_SOCK': '/run/user/1000/keyring/ssh',\n",
      " 'SYSTEMD_EXEC_PID': '3057',\n",
      " 'TERM': 'xterm-color',\n",
      " 'USER': 'yashkathe',\n",
      " 'USERNAME': 'yashkathe',\n",
      " 'VSCODE_AMD_ENTRYPOINT': 'vs/workbench/api/node/extensionHostProcess',\n",
      " 'VSCODE_CODE_CACHE_PATH': '/home/yashkathe/.config/Code/CachedData/0ee08df0cf4527e40edc9aa28f4b5bd38bbff2b2',\n",
      " 'VSCODE_CRASH_REPORTER_PROCESS_TYPE': 'extensionHost',\n",
      " 'VSCODE_CWD': '/home/yashkathe',\n",
      " 'VSCODE_HANDLES_UNCAUGHT_ERRORS': 'true',\n",
      " 'VSCODE_IPC_HOOK': '/run/user/1000/vscode-67ebaf5b-1.85-main.sock',\n",
      " 'VSCODE_L10N_BUNDLE_LOCATION': '',\n",
      " 'VSCODE_NLS_CONFIG': '{\"locale\":\"en-us\",\"osLocale\":\"en-us\",\"availableLanguages\":{},\"_languagePackSupport\":true}',\n",
      " 'VSCODE_PID': '40048',\n",
      " 'WINDOWPATH': '2',\n",
      " 'XAUTHORITY': '/run/user/1000/gdm/Xauthority',\n",
      " 'XDG_CONFIG_DIRS': '/etc/xdg/xdg-pop:/etc/xdg',\n",
      " 'XDG_CURRENT_DESKTOP': 'Unity',\n",
      " 'XDG_DATA_DIRS': '/usr/share/pop:/usr/share/gnome:/home/yashkathe/.local/share/flatpak/exports/share:/var/lib/flatpak/exports/share:/usr/local/share/:/usr/share/:/var/lib/snapd/desktop',\n",
      " 'XDG_MENU_PREFIX': 'gnome-',\n",
      " 'XDG_RUNTIME_DIR': '/run/user/1000',\n",
      " 'XDG_SESSION_CLASS': 'user',\n",
      " 'XDG_SESSION_DESKTOP': 'pop',\n",
      " 'XDG_SESSION_TYPE': 'x11',\n",
      " 'XMODIFIERS': '@im=ibus',\n",
      " '_': '/usr/share/code/code'}\n"
     ]
    }
   ],
   "source": [
    "env_var = os.environ \n",
    "   \n",
    "print(\"User's Environment variable:\")\n",
    "pprint.pprint(dict(env_var), width=1) "
   ]
  },
  {
   "cell_type": "markdown",
   "metadata": {},
   "source": [
    "#### Retrieving Specific Environment Variables Using os.environ Object"
   ]
  },
  {
   "cell_type": "code",
   "execution_count": 26,
   "metadata": {},
   "outputs": [
    {
     "name": "stdout",
     "output_type": "stream",
     "text": [
      "/home/yashkathe\n"
     ]
    }
   ],
   "source": [
    "home = os.environ['HOME']\n",
    "print(home)"
   ]
  },
  {
   "cell_type": "markdown",
   "metadata": {},
   "source": [
    "#### Set an Environment Variable Using the OS Module  \n",
    "\n",
    "```python3\n",
    "os.environ['JAVA_HOME'] = '/home / ihritik / jdk-10.0.1'\n",
    "```"
   ]
  },
  {
   "cell_type": "markdown",
   "metadata": {},
   "source": [
    "#### Add New Environment Variable Using os.environ Object  \n",
    "\n",
    "```python3\n",
    "os.environ['GeeksForGeeks'] = 'www.geeksforgeeks.org'\n",
    "```"
   ]
  },
  {
   "cell_type": "markdown",
   "metadata": {},
   "source": [
    "### Handling Error while Access Environment Variable which Does Not Exists"
   ]
  },
  {
   "cell_type": "code",
   "execution_count": 27,
   "metadata": {},
   "outputs": [
    {
     "name": "stdout",
     "output_type": "stream",
     "text": [
      "Environment variable does not exist\n"
     ]
    }
   ],
   "source": [
    "try: \n",
    "    print(\"MY_HOME:\", os.environ['MY_HOME']) \n",
    "except KeyError:  \n",
    "    print(\"Environment variable does not exist\")"
   ]
  }
 ],
 "metadata": {
  "kernelspec": {
   "display_name": "Python 3",
   "language": "python",
   "name": "python3"
  },
  "language_info": {
   "codemirror_mode": {
    "name": "ipython",
    "version": 3
   },
   "file_extension": ".py",
   "mimetype": "text/x-python",
   "name": "python",
   "nbconvert_exporter": "python",
   "pygments_lexer": "ipython3",
   "version": "3.10.12"
  }
 },
 "nbformat": 4,
 "nbformat_minor": 2
}
