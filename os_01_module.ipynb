{
 "cells": [
  {
   "cell_type": "markdown",
   "metadata": {},
   "source": [
    "# The OS Module"
   ]
  },
  {
   "cell_type": "code",
   "execution_count": 44,
   "metadata": {},
   "outputs": [],
   "source": [
    "import os "
   ]
  },
  {
   "cell_type": "markdown",
   "metadata": {},
   "source": [
    "### Current working directory\n",
    "\n",
    "getcwd() = pwd"
   ]
  },
  {
   "cell_type": "code",
   "execution_count": 45,
   "metadata": {},
   "outputs": [
    {
     "name": "stdout",
     "output_type": "stream",
     "text": [
      "/home/yashkathe/Python-automation\n"
     ]
    }
   ],
   "source": [
    "pwd = os.getcwd()\n",
    "print(pwd)"
   ]
  },
  {
   "cell_type": "markdown",
   "metadata": {},
   "source": [
    "### Changing directory\n",
    "\n",
    "chdir('../') = ../"
   ]
  },
  {
   "cell_type": "code",
   "execution_count": 46,
   "metadata": {},
   "outputs": [],
   "source": [
    "# Function to print current directory\n",
    "\n",
    "def current_path():\n",
    "    path = os.getcwd()\n",
    "    print(f\"Current working directory is {path}\")\n",
    "    print()"
   ]
  },
  {
   "cell_type": "code",
   "execution_count": 47,
   "metadata": {},
   "outputs": [
    {
     "name": "stdout",
     "output_type": "stream",
     "text": [
      "Current working directory is /home/yashkathe/Python-automation\n",
      "\n",
      "Current working directory is /home/yashkathe/ANSIBLE\n",
      "\n"
     ]
    }
   ],
   "source": [
    "current_path()\n",
    "os.chdir('../ANSIBLE/')\n",
    "current_path()"
   ]
  },
  {
   "cell_type": "code",
   "execution_count": 48,
   "metadata": {},
   "outputs": [],
   "source": [
    "# cleaning up\n",
    "\n",
    "os.chdir('../Python-automation/')"
   ]
  },
  {
   "cell_type": "markdown",
   "metadata": {},
   "source": [
    "### Creating a directory\n",
    "\n",
    "mkdir(path)  \n",
    "mkdir(path, mode)\n",
    "\n",
    "1. path -> whole path with new directory \n",
    "2. mode -> 0o777 "
   ]
  },
  {
   "cell_type": "code",
   "execution_count": 49,
   "metadata": {},
   "outputs": [],
   "source": [
    "new_dir = \"Dummy\"\n",
    "new_dir2 = \"Dummy2\"\n",
    "parent_dir = os.getcwd()\n",
    "\n",
    "# construct path of new directory\n",
    "\n",
    "path = os.path.join(parent_dir, new_dir)\n",
    "\n",
    "# make directory\n",
    "\n",
    "os.mkdir(path)"
   ]
  },
  {
   "cell_type": "code",
   "execution_count": 50,
   "metadata": {},
   "outputs": [],
   "source": [
    "# Make a new directory with permissions(mode)\n",
    "\n",
    "new_dir = \"Dummy2\"\n",
    "parent_dir = os.getcwd()\n",
    "\n",
    "path = os.path.join(parent_dir, new_dir)\n",
    "mode = 0o700\n",
    "\n",
    "os.mkdir(path, mode)"
   ]
  },
  {
   "cell_type": "markdown",
   "metadata": {},
   "source": [
    "### Creating directories recursively\n",
    "\n",
    "While making leaf directory if any intermediate-level directory is missing,\n",
    "os.makedirs() method will create them all.\n",
    "\n",
    "os.mkdirs(path,mode)\n"
   ]
  },
  {
   "cell_type": "markdown",
   "metadata": {},
   "source": [
    "### Listing directories\n",
    "\n",
    "os.listdir(path) = ls"
   ]
  },
  {
   "cell_type": "code",
   "execution_count": 51,
   "metadata": {},
   "outputs": [
    {
     "name": "stdout",
     "output_type": "stream",
     "text": [
      "['srv', 'sys', 'libx32', 'media', 'root', 'mnt', 'lib32', 'bin', 'lib', 'run', 'home', 'tmp', 'etc', 'dev', 'sbin', 'var', 'opt', 'snap', 'lib64', 'usr', 'proc', 'boot', 'lost+found']\n"
     ]
    }
   ],
   "source": [
    "path = \"/\"\n",
    "\n",
    "dir_list = os.listdir(path)\n",
    "\n",
    "print(dir_list)"
   ]
  },
  {
   "cell_type": "markdown",
   "metadata": {},
   "source": [
    "### Deleting Directory or Files using Python\n",
    "\n",
    "- os.remove() - rm    \n",
    "  used to remove or delete a file path. This method can not remove or delete a directory\n",
    "- os.rmdir() - rm -rf  \n",
    "  used to remove or delete an empty directory. OSError will be raised if the specified path is not an empty directory\n",
    "  "
   ]
  },
  {
   "cell_type": "code",
   "execution_count": 52,
   "metadata": {},
   "outputs": [],
   "source": [
    "base_directory=os.getcwd()\n",
    "directory1=\"Dummy\"\n",
    "directory2=\"Dummy2\"\n",
    "\n",
    "path=os.path.join(base_directory, directory1)\n",
    "os.rmdir(path)\n",
    "\n",
    "path=os.path.join(base_directory, directory2)\n",
    "os.rmdir(path)"
   ]
  }
 ],
 "metadata": {
  "kernelspec": {
   "display_name": "Python 3",
   "language": "python",
   "name": "python3"
  },
  "language_info": {
   "codemirror_mode": {
    "name": "ipython",
    "version": 3
   },
   "file_extension": ".py",
   "mimetype": "text/x-python",
   "name": "python",
   "nbconvert_exporter": "python",
   "pygments_lexer": "ipython3",
   "version": "3.10.12"
  }
 },
 "nbformat": 4,
 "nbformat_minor": 2
}
